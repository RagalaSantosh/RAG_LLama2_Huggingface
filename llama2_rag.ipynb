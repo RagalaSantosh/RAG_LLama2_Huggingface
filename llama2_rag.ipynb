{
 "cells": [
  {
   "cell_type": "code",
   "execution_count": 6,
   "metadata": {},
   "outputs": [],
   "source": [
    "# from llama_index import Vectorstore, SimpleDirectoryReader, ServiceContext\n",
    "from llama_index.core import VectorStoreIndex, SimpleDirectoryReader, ServiceContext\n",
    "from llama_index.llms.huggingface import HuggingFaceLLM\n",
    "from llama_index.core.prompts.prompts import SimpleInputPrompt"
   ]
  },
  {
   "cell_type": "code",
   "execution_count": 7,
   "metadata": {},
   "outputs": [],
   "source": [
    "documents = SimpleDirectoryReader(r\"./input\").load_data()"
   ]
  },
  {
   "cell_type": "markdown",
   "metadata": {},
   "source": []
  },
  {
   "cell_type": "code",
   "execution_count": 8,
   "metadata": {},
   "outputs": [
    {
     "data": {
      "text/plain": [
       "[Document(id_='ae4b87fd-8416-4d5d-b1fc-e11c6a45c3ee', embedding=None, metadata={'page_label': '1', 'file_name': 'circular_1691558721.pdf', 'file_path': 'c:\\\\Users\\\\user\\\\PycharmProjects\\\\RAG_Query PDFs\\\\input\\\\circular_1691558721.pdf', 'file_type': 'application/pdf', 'file_size': 270458, 'creation_date': '2024-06-03', 'last_modified_date': '2023-08-20'}, excluded_embed_metadata_keys=['file_name', 'file_type', 'file_size', 'creation_date', 'last_modified_date', 'last_accessed_date'], excluded_llm_metadata_keys=['file_name', 'file_type', 'file_size', 'creation_date', 'last_modified_date', 'last_accessed_date'], relationships={}, text='BANNARG HATTA MAIN ROAD, GOTTIGERE  P.O.  \\nBANGALORE 83  \\n \\n CARMEL ACADEMY  \\n \\nCircular Regarding Second Instalment Fees Payment  \\nPre-Primary and Grade I -XII \\nDate: 09/08/2023  \\n  \\nDear Parent  \\nGreetings from Carmel Academy   \\n \\n       This is a gentle reminder for the Second instalment fee. Payment should be made on \\nor before 20th  August 2023 ,  for all students (Pre -primary and Grade I -XII).  \\nWe appreciate your cooperation and understanding in this regard.   \\n \\nNote: Kindly ignore the message if payment has already been made.   \\n \\nWarm Regards  \\nPrincipal   \\nCarmel Academy  \\n \\n ', start_char_idx=None, end_char_idx=None, text_template='{metadata_str}\\n\\n{content}', metadata_template='{key}: {value}', metadata_seperator='\\n'),\n",
       " Document(id_='6aa03818-6280-4885-bf83-a0f579dcd55a', embedding=None, metadata={'page_label': '1', 'file_name': 'openai.pdf', 'file_path': 'c:\\\\Users\\\\user\\\\PycharmProjects\\\\RAG_Query PDFs\\\\input\\\\openai.pdf', 'file_type': 'application/pdf', 'file_size': 102094, 'creation_date': '2024-06-03', 'last_modified_date': '2024-06-03'}, excluded_embed_metadata_keys=['file_name', 'file_type', 'file_size', 'creation_date', 'last_modified_date', 'last_accessed_date'], excluded_llm_metadata_keys=['file_name', 'file_type', 'file_size', 'creation_date', 'last_modified_date', 'last_accessed_date'], relationships={}, text='Package ‘openai’\\nMarch 15, 2023\\nType Package\\nTitle R Wrapper for OpenAI API\\nVersion 0.4.1\\nDate 2023-03-14\\nDescription An R wrapper of OpenAI API endpoints (see\\n<https://platform.openai.com/docs/introduction > for details). This package\\ncovers Models, Completions, Chat, Edits, Images, Embeddings, Audio, Files,\\nFine-tunes, Moderations, and legacy Engines endpoints.\\nLicense MIT + ﬁle LICENSE\\nEncoding UTF-8\\nRoxygenNote 7.2.1\\nURL https://github.com/irudnyts/openai ,\\nhttps://irudnyts.github.io/openai/\\nBugReports https://github.com/irudnyts/openai/issues\\nDepends R (>= 3.5)\\nImports assertthat (>= 0.2.1), glue (>= 1.6.2), httr (>= 1.4.3),\\njsonlite (>= 1.8.0), lifecycle (>= 1.0.1), magrittr (>= 2.0.3)\\nSuggests testthat (>= 3.0.0), purrr (>= 0.3.4), covr (>= 3.5.1)\\nConﬁg/testthat/edition 3\\nNeedsCompilation no\\nAuthor Iegor Rudnytskyi [aut, cre]\\nMaintainer Iegor Rudnytskyi <iegor.rudnytskyi@gmail.com>\\nRepository CRAN\\nDate/Publication 2023-03-15 00:20:02 UTC\\n1\\nClick to BUY NOW!PDF-XChangeEditor\\nw\\nw\\nw.tracker-software.com\\nClick to BUY NOW!PDF-XChangeEditor\\nw\\nw\\nw.tracker-software.com', start_char_idx=None, end_char_idx=None, text_template='{metadata_str}\\n\\n{content}', metadata_template='{key}: {value}', metadata_seperator='\\n'),\n",
       " Document(id_='361e70e3-8a78-4de4-a663-d64ef0ff2a77', embedding=None, metadata={'page_label': '2', 'file_name': 'openai.pdf', 'file_path': 'c:\\\\Users\\\\user\\\\PycharmProjects\\\\RAG_Query PDFs\\\\input\\\\openai.pdf', 'file_type': 'application/pdf', 'file_size': 102094, 'creation_date': '2024-06-03', 'last_modified_date': '2024-06-03'}, excluded_embed_metadata_keys=['file_name', 'file_type', 'file_size', 'creation_date', 'last_modified_date', 'last_accessed_date'], excluded_llm_metadata_keys=['file_name', 'file_type', 'file_size', 'creation_date', 'last_modified_date', 'last_accessed_date'], relationships={}, text='2 cancel_ﬁne_tune\\nRtopics documented:\\ncancel_ﬁne_tune . . . . . . . . . . . . . . . . . . . . . . . . . . . . . . . . . . . . . . 2\\ncreate_chat_completion . . . . . . . . . . . . . . . . . . . . . . . . . . . . . . . . . . . 4\\ncreate_completion . . . . . . . . . . . . . . . . . . . . . . . . . . . . . . . . . . . . . . 6\\ncreate_edit . . . . . . . . . . . . . . . . . . . . . . . . . . . . . . . . . . . . . . . . . . 8\\ncreate_embedding . . . . . . . . . . . . . . . . . . . . . . . . . . . . . . . . . . . . . . 9\\ncreate_ﬁne_tune . . . . . . . . . . . . . . . . . . . . . . . . . . . . . . . . . . . . . . . 10\\ncreate_image . . . . . . . . . . . . . . . . . . . . . . . . . . . . . . . . . . . . . . . . 12\\ncreate_image_edit . . . . . . . . . . . . . . . . . . . . . . . . . . . . . . . . . . . . . . 13\\ncreate_image_variation . . . . . . . . . . . . . . . . . . . . . . . . . . . . . . . . . . . 15\\ncreate_moderation . . . . . . . . . . . . . . . . . . . . . . . . . . . . . . . . . . . . . . 16\\ncreate_transcription . . . . . . . . . . . . . . . . . . . . . . . . . . . . . . . . . . . . . 17\\ncreate_translation . . . . . . . . . . . . . . . . . . . . . . . . . . . . . . . . . . . . . . 18\\ndelete_ﬁle . . . . . . . . . . . . . . . . . . . . . . . . . . . . . . . . . . . . . . . . . . 19\\ndelete_ﬁne_tune_model . . . . . . . . . . . . . . . . . . . . . . . . . . . . . . . . . . . 20\\nlist_ﬁles . . . . . . . . . . . . . . . . . . . . . . . . . . . . . . . . . . . . . . . . . . . 22\\nlist_ﬁne_tunes . . . . . . . . . . . . . . . . . . . . . . . . . . . . . . . . . . . . . . . . 23\\nlist_ﬁne_tune_events . . . . . . . . . . . . . . . . . . . . . . . . . . . . . . . . . . . . 24\\nlist_models . . . . . . . . . . . . . . . . . . . . . . . . . . . . . . . . . . . . . . . . . 25\\nretrieve_ﬁle . . . . . . . . . . . . . . . . . . . . . . . . . . . . . . . . . . . . . . . . . 26\\nretrieve_ﬁle_content . . . . . . . . . . . . . . . . . . . . . . . . . . . . . . . . . . . . 27\\nretrieve_ﬁne_tune . . . . . . . . . . . . . . . . . . . . . . . . . . . . . . . . . . . . . . 28\\nretrieve_model . . . . . . . . . . . . . . . . . . . . . . . . . . . . . . . . . . . . . . . 29\\nupload_ﬁle . . . . . . . . . . . . . . . . . . . . . . . . . . . . . . . . . . . . . . . . . 30\\nIndex 32\\ncancel_fine_tune Cancel ﬁne-tune\\nDescription\\nCancel a running ﬁne-tune job. See this page for details.\\nUsage\\ncancel_fine_tune(\\nfine_tune_id,\\nopenai_api_key = Sys.getenv(\"OPENAI_API_KEY\"),\\nopenai_organization = NULL\\n)\\nClick to BUY NOW!PDF-XChangeEditor\\nw\\nw\\nw.tracker-software.com\\nClick to BUY NOW!PDF-XChangeEditor\\nw\\nw\\nw.tracker-software.com', start_char_idx=None, end_char_idx=None, text_template='{metadata_str}\\n\\n{content}', metadata_template='{key}: {value}', metadata_seperator='\\n'),\n",
       " Document(id_='7e0225fe-eb16-4c72-9dcd-a969d8449240', embedding=None, metadata={'page_label': '3', 'file_name': 'openai.pdf', 'file_path': 'c:\\\\Users\\\\user\\\\PycharmProjects\\\\RAG_Query PDFs\\\\input\\\\openai.pdf', 'file_type': 'application/pdf', 'file_size': 102094, 'creation_date': '2024-06-03', 'last_modified_date': '2024-06-03'}, excluded_embed_metadata_keys=['file_name', 'file_type', 'file_size', 'creation_date', 'last_modified_date', 'last_accessed_date'], excluded_llm_metadata_keys=['file_name', 'file_type', 'file_size', 'creation_date', 'last_modified_date', 'last_accessed_date'], relationships={}, text='cancel_ﬁne_tune 3\\nArguments\\nfine_tune_id required; a length one character vector.\\nopenai_api_key required; defaults to Sys.getenv(\"OPENAI_API_KEY\") (i.e., the value is re-\\ntrieved from the .Renviron ﬁle); a length one character vector. Speciﬁes Ope-\\nnAI API key.\\nopenai_organization\\noptional; defaults to NULL ; a length one character vector. Speciﬁes OpenAI or-\\nganization.\\nDetails\\nFor arguments description please refer to the ofﬁcial documentation .\\nValue\\nReturns a list, elements of which contains information about the cancelled ﬁne-tune.\\nSee Also\\nOther ﬁne-tune functions: create_fine_tune (),delete_fine_tune_model (),list_fine_tune_events (),\\nlist_fine_tunes (),retrieve_fine_tune ()\\nExamples\\n## Not run:\\ntraining_file <- system.file(\\n\"extdata\", \"sport_prepared_train.jsonl\", package = \"openai\"\\n)\\nvalidation_file <- system.file(\\n\"extdata\", \"sport_prepared_train.jsonl\", package = \"openai\"\\n)\\ntraining_info <- upload_file(training_file, \"fine-tune\")\\nvalidation_info <- upload_file(validation_file, \"fine-tune\")\\ninfo <- create_fine_tune(\\ntraining_file = training_info$id,\\nvalidation_file = validation_info$id,\\nmodel = \"ada\",\\ncompute_classification_metrics = TRUE,\\nclassification_positive_class = \" baseball\" # Mind space in front\\n)\\nid <- ifelse(\\nlength(info$data$id) > 1,\\ninfo$data$id[length(info$data$id)],\\ninfo$data$id\\n)\\ncancel_fine_tune(fine_tune_id = id)\\nClick to BUY NOW!PDF-XChangeEditor\\nw\\nw\\nw.tracker-software.com\\nClick to BUY NOW!PDF-XChangeEditor\\nw\\nw\\nw.tracker-software.com', start_char_idx=None, end_char_idx=None, text_template='{metadata_str}\\n\\n{content}', metadata_template='{key}: {value}', metadata_seperator='\\n'),\n",
       " Document(id_='db5a4e2c-7963-4190-b7ae-02815da2633c', embedding=None, metadata={'page_label': '4', 'file_name': 'openai.pdf', 'file_path': 'c:\\\\Users\\\\user\\\\PycharmProjects\\\\RAG_Query PDFs\\\\input\\\\openai.pdf', 'file_type': 'application/pdf', 'file_size': 102094, 'creation_date': '2024-06-03', 'last_modified_date': '2024-06-03'}, excluded_embed_metadata_keys=['file_name', 'file_type', 'file_size', 'creation_date', 'last_modified_date', 'last_accessed_date'], excluded_llm_metadata_keys=['file_name', 'file_type', 'file_size', 'creation_date', 'last_modified_date', 'last_accessed_date'], relationships={}, text='4 create_chat_completion\\n## End(Not run)\\ncreate_chat_completion\\nCreate chat completion\\nDescription\\nCreates a completion for the chat message. See this page for details.\\nUsage\\ncreate_chat_completion(\\nmodel,\\nmessages = NULL,\\ntemperature = 1,\\ntop_p = 1,\\nn = 1,\\nstream = FALSE,\\nstop = NULL,\\nmax_tokens = NULL,\\npresence_penalty = 0,\\nfrequency_penalty = 0,\\nlogit_bias = NULL,\\nuser = NULL,\\nopenai_api_key = Sys.getenv(\"OPENAI_API_KEY\"),\\nopenai_organization = NULL\\n)\\nArguments\\nmodel required; a length one character vector.\\nmessages required; defaults to NULL ; a list in the following format: list(list(\"role\" = \"user\", \"content\" = \"Hey! How old are you?\")\\ntemperature required; defaults to 1; a length one numeric vector with the value between 0\\nand2.\\ntop_p required; defaults to 1; a length one numeric vector with the value between 0\\nand1.\\nn required; defaults to 1; a length one numeric vector with the integer value greater\\nthan 0.\\nstream required; defaults to FALSE ; a length one logical vector. Currently is not im-\\nplemented.\\nstop optional; defaults to NULL ; a character vector of length between one and four.\\nmax_tokens required; defaults to (4096 - prompt tokens) ; a length one numeric vector\\nwith the integer value greater than 0.\\nClick to BUY NOW!PDF-XChangeEditor\\nw\\nw\\nw.tracker-software.com\\nClick to BUY NOW!PDF-XChangeEditor\\nw\\nw\\nw.tracker-software.com', start_char_idx=None, end_char_idx=None, text_template='{metadata_str}\\n\\n{content}', metadata_template='{key}: {value}', metadata_seperator='\\n')]"
      ]
     },
     "execution_count": 8,
     "metadata": {},
     "output_type": "execute_result"
    }
   ],
   "source": [
    "documents"
   ]
  },
  {
   "cell_type": "code",
   "execution_count": 9,
   "metadata": {},
   "outputs": [],
   "source": [
    "system_prompt = \"\"\"\n",
    "You are a Q&A assistant. Your goal is to give response as accurately as possible based on the context provided.\n",
    "\n",
    "\"\"\"\n",
    "query_wrapper_prompt = SimpleInputPrompt(\"<|USER|>{query_str}<|ASSISTANT|>\")"
   ]
  },
  {
   "cell_type": "code",
   "execution_count": null,
   "metadata": {},
   "outputs": [],
   "source": [
    "# You need to run this to get Hugging face token.\n",
    "#huggingface-cli login"
   ]
  },
  {
   "cell_type": "code",
   "execution_count": null,
   "metadata": {},
   "outputs": [],
   "source": [
    "\n",
    "import torch\n",
    "\n",
    "llm = HuggingFaceLLM(\n",
    "    context_window=4096,\n",
    "    max_new_tokens=256,\n",
    "    generate_kwargs={\"temperature\": 0.0, \"do_sample\": False},\n",
    "    system_prompt=system_prompt,\n",
    "    query_wrapper_prompt=query_wrapper_prompt,\n",
    "    tokenizer_name=\"meta-llama/Llama-2-7b-chat-hf\",\n",
    "    model_name=\"meta-llama/Llama-2-7b-chat-hf\",\n",
    "    device_map=\"auto\",\n",
    "    # uncomment this if using CUDA to reduce memory usage\n",
    "    model_kwargs={\"torch_dtype\": torch.float16 , \"load_in_8bit\":True}\n",
    ")"
   ]
  },
  {
   "cell_type": "code",
   "execution_count": null,
   "metadata": {},
   "outputs": [],
   "source": [
    "from langchain.embeddings.huggingface import HuggingFaceEmbeddings\n",
    "from llama_index.core import ServiceContext\n",
    "from llama_index.embeddings import LangchainEmbedding\n",
    "\n",
    "embed_model=LangchainEmbedding(\n",
    "    HuggingFaceEmbeddings(model_name=\"sentence-transformers/all-mpnet-base-v2\"))"
   ]
  },
  {
   "cell_type": "code",
   "execution_count": null,
   "metadata": {},
   "outputs": [],
   "source": [
    "\n",
    "service_context=ServiceContext.from_defaults(\n",
    "    chunk_size=1024,\n",
    "    llm=llm,\n",
    "    embed_model=embed_model\n",
    ")"
   ]
  },
  {
   "cell_type": "code",
   "execution_count": null,
   "metadata": {},
   "outputs": [],
   "source": [
    "service_context"
   ]
  },
  {
   "cell_type": "code",
   "execution_count": null,
   "metadata": {},
   "outputs": [],
   "source": [
    "index=VectorStoreIndex.from_documents(documents,service_context=service_context)"
   ]
  },
  {
   "cell_type": "code",
   "execution_count": null,
   "metadata": {},
   "outputs": [],
   "source": [
    "\n",
    "index"
   ]
  },
  {
   "cell_type": "code",
   "execution_count": null,
   "metadata": {},
   "outputs": [],
   "source": [
    "query_engine=index.as_query_engine()"
   ]
  },
  {
   "cell_type": "code",
   "execution_count": null,
   "metadata": {},
   "outputs": [],
   "source": [
    "response=query_engine.query(\"what is ai?\")"
   ]
  },
  {
   "cell_type": "code",
   "execution_count": null,
   "metadata": {},
   "outputs": [],
   "source": [
    "response"
   ]
  }
 ],
 "metadata": {
  "kernelspec": {
   "display_name": "Python 3",
   "language": "python",
   "name": "python3"
  },
  "language_info": {
   "codemirror_mode": {
    "name": "ipython",
    "version": 3
   },
   "file_extension": ".py",
   "mimetype": "text/x-python",
   "name": "python",
   "nbconvert_exporter": "python",
   "pygments_lexer": "ipython3",
   "version": "3.11.0"
  }
 },
 "nbformat": 4,
 "nbformat_minor": 2
}
